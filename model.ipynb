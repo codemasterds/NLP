{
 "cells": [
  {
   "cell_type": "code",
   "execution_count": 1,
   "metadata": {},
   "outputs": [],
   "source": [
    "import pandas as pd\n",
    "\n"
   ]
  },
  {
   "cell_type": "code",
   "execution_count": 2,
   "metadata": {},
   "outputs": [
    {
     "data": {
      "text/html": [
       "<div>\n",
       "<style scoped>\n",
       "    .dataframe tbody tr th:only-of-type {\n",
       "        vertical-align: middle;\n",
       "    }\n",
       "\n",
       "    .dataframe tbody tr th {\n",
       "        vertical-align: top;\n",
       "    }\n",
       "\n",
       "    .dataframe thead th {\n",
       "        text-align: right;\n",
       "    }\n",
       "</style>\n",
       "<table border=\"1\" class=\"dataframe\">\n",
       "  <thead>\n",
       "    <tr style=\"text-align: right;\">\n",
       "      <th></th>\n",
       "      <th>QuestionType</th>\n",
       "      <th>Asin</th>\n",
       "      <th>AnswerTime</th>\n",
       "      <th>UnixTime</th>\n",
       "      <th>Question</th>\n",
       "      <th>AnswerType</th>\n",
       "      <th>Answer</th>\n",
       "      <th>Category</th>\n",
       "    </tr>\n",
       "  </thead>\n",
       "  <tbody>\n",
       "    <tr>\n",
       "      <th>0</th>\n",
       "      <td>yes/no</td>\n",
       "      <td>B00004U9JP</td>\n",
       "      <td>Jun 27, 2014</td>\n",
       "      <td>1.403852e+09</td>\n",
       "      <td>I have a 9 year old Badger 1 that needs replac...</td>\n",
       "      <td>?</td>\n",
       "      <td>I replaced my old one with this without a hitch.</td>\n",
       "      <td>Appliances</td>\n",
       "    </tr>\n",
       "    <tr>\n",
       "      <th>1</th>\n",
       "      <td>open-ended</td>\n",
       "      <td>B00004U9JP</td>\n",
       "      <td>Apr 28, 2014</td>\n",
       "      <td>1.398668e+09</td>\n",
       "      <td>model number</td>\n",
       "      <td>NaN</td>\n",
       "      <td>This may help InSinkErator Model BADGER-1: Bad...</td>\n",
       "      <td>Appliances</td>\n",
       "    </tr>\n",
       "    <tr>\n",
       "      <th>2</th>\n",
       "      <td>yes/no</td>\n",
       "      <td>B00004U9JP</td>\n",
       "      <td>Aug 25, 2014</td>\n",
       "      <td>1.408950e+09</td>\n",
       "      <td>can I replace Badger 1 1/3 with a Badger 5 1/2...</td>\n",
       "      <td>?</td>\n",
       "      <td>Plumbing connections will vary with different ...</td>\n",
       "      <td>Appliances</td>\n",
       "    </tr>\n",
       "    <tr>\n",
       "      <th>3</th>\n",
       "      <td>yes/no</td>\n",
       "      <td>B00004U9JP</td>\n",
       "      <td>Nov 3, 2014</td>\n",
       "      <td>1.415002e+09</td>\n",
       "      <td>Does this come with power cord and dishwasher ...</td>\n",
       "      <td>?</td>\n",
       "      <td>It does not come with a power cord. It does co...</td>\n",
       "      <td>Appliances</td>\n",
       "    </tr>\n",
       "    <tr>\n",
       "      <th>4</th>\n",
       "      <td>open-ended</td>\n",
       "      <td>B00004U9JP</td>\n",
       "      <td>Jun 21, 2014</td>\n",
       "      <td>1.403334e+09</td>\n",
       "      <td>loud noise inside when turned on. sounds like ...</td>\n",
       "      <td>NaN</td>\n",
       "      <td>Check if you dropped something inside.Usually ...</td>\n",
       "      <td>Appliances</td>\n",
       "    </tr>\n",
       "  </tbody>\n",
       "</table>\n",
       "</div>"
      ],
      "text/plain": [
       "  QuestionType        Asin    AnswerTime      UnixTime  \\\n",
       "0       yes/no  B00004U9JP  Jun 27, 2014  1.403852e+09   \n",
       "1   open-ended  B00004U9JP  Apr 28, 2014  1.398668e+09   \n",
       "2       yes/no  B00004U9JP  Aug 25, 2014  1.408950e+09   \n",
       "3       yes/no  B00004U9JP   Nov 3, 2014  1.415002e+09   \n",
       "4   open-ended  B00004U9JP  Jun 21, 2014  1.403334e+09   \n",
       "\n",
       "                                            Question AnswerType  \\\n",
       "0  I have a 9 year old Badger 1 that needs replac...          ?   \n",
       "1                                       model number        NaN   \n",
       "2  can I replace Badger 1 1/3 with a Badger 5 1/2...          ?   \n",
       "3  Does this come with power cord and dishwasher ...          ?   \n",
       "4  loud noise inside when turned on. sounds like ...        NaN   \n",
       "\n",
       "                                              Answer    Category  \n",
       "0   I replaced my old one with this without a hitch.  Appliances  \n",
       "1  This may help InSinkErator Model BADGER-1: Bad...  Appliances  \n",
       "2  Plumbing connections will vary with different ...  Appliances  \n",
       "3  It does not come with a power cord. It does co...  Appliances  \n",
       "4  Check if you dropped something inside.Usually ...  Appliances  "
      ]
     },
     "execution_count": 2,
     "metadata": {},
     "output_type": "execute_result"
    }
   ],
   "source": [
    "df=pd.read_csv(r\"single_qna.csv\\single_qna.csv\")\n",
    "df.head()"
   ]
  },
  {
   "cell_type": "code",
   "execution_count": 3,
   "metadata": {},
   "outputs": [
    {
     "name": "stdout",
     "output_type": "stream",
     "text": [
      "{'Appliances': 0, 'Arts Crafts and Sewing': 1, 'Automotive': 2, 'Baby': 3, 'Beauty': 4, 'Cell Phones and Accessories': 5, 'Clothing Shoes and Jewelry': 6, 'Electronics': 7, 'Grocery and Gourmet Food': 8, 'Health and Personal Care': 9, 'Home and Kitchen': 10, 'Industrial and Scientific': 11, 'Musical Instruments': 12, 'Office Products': 13, 'Patio Lawn and Garden': 14, 'Pet Supplies': 15, 'Software': 16, 'Sports and Outdoors': 17, 'Tools and Home Improvement': 18, 'Toys and Games': 19, 'Video Games': 20}\n"
     ]
    }
   ],
   "source": [
    "unique_categories = list(df['Category'].unique())\n",
    "categories = {cat: i for i, cat in enumerate(unique_categories)}\n",
    "\n",
    "print(categories)\n"
   ]
  },
  {
   "cell_type": "code",
   "execution_count": 4,
   "metadata": {},
   "outputs": [
    {
     "data": {
      "text/html": [
       "<div>\n",
       "<style scoped>\n",
       "    .dataframe tbody tr th:only-of-type {\n",
       "        vertical-align: middle;\n",
       "    }\n",
       "\n",
       "    .dataframe tbody tr th {\n",
       "        vertical-align: top;\n",
       "    }\n",
       "\n",
       "    .dataframe thead th {\n",
       "        text-align: right;\n",
       "    }\n",
       "</style>\n",
       "<table border=\"1\" class=\"dataframe\">\n",
       "  <thead>\n",
       "    <tr style=\"text-align: right;\">\n",
       "      <th></th>\n",
       "      <th>Question</th>\n",
       "    </tr>\n",
       "    <tr>\n",
       "      <th>Category</th>\n",
       "      <th></th>\n",
       "    </tr>\n",
       "  </thead>\n",
       "  <tbody>\n",
       "    <tr>\n",
       "      <th>Appliances</th>\n",
       "      <td>9011</td>\n",
       "    </tr>\n",
       "    <tr>\n",
       "      <th>Arts Crafts and Sewing</th>\n",
       "      <td>21262</td>\n",
       "    </tr>\n",
       "    <tr>\n",
       "      <th>Automotive</th>\n",
       "      <td>89923</td>\n",
       "    </tr>\n",
       "    <tr>\n",
       "      <th>Baby</th>\n",
       "      <td>28933</td>\n",
       "    </tr>\n",
       "    <tr>\n",
       "      <th>Beauty</th>\n",
       "      <td>42422</td>\n",
       "    </tr>\n",
       "    <tr>\n",
       "      <th>Cell Phones and Accessories</th>\n",
       "      <td>85865</td>\n",
       "    </tr>\n",
       "    <tr>\n",
       "      <th>Clothing Shoes and Jewelry</th>\n",
       "      <td>22068</td>\n",
       "    </tr>\n",
       "    <tr>\n",
       "      <th>Electronics</th>\n",
       "      <td>314263</td>\n",
       "    </tr>\n",
       "    <tr>\n",
       "      <th>Grocery and Gourmet Food</th>\n",
       "      <td>19538</td>\n",
       "    </tr>\n",
       "    <tr>\n",
       "      <th>Health and Personal Care</th>\n",
       "      <td>80496</td>\n",
       "    </tr>\n",
       "    <tr>\n",
       "      <th>Home and Kitchen</th>\n",
       "      <td>184439</td>\n",
       "    </tr>\n",
       "    <tr>\n",
       "      <th>Industrial and Scientific</th>\n",
       "      <td>12136</td>\n",
       "    </tr>\n",
       "    <tr>\n",
       "      <th>Musical Instruments</th>\n",
       "      <td>23322</td>\n",
       "    </tr>\n",
       "    <tr>\n",
       "      <th>Office Products</th>\n",
       "      <td>43608</td>\n",
       "    </tr>\n",
       "    <tr>\n",
       "      <th>Patio Lawn and Garden</th>\n",
       "      <td>59595</td>\n",
       "    </tr>\n",
       "    <tr>\n",
       "      <th>Pet Supplies</th>\n",
       "      <td>36607</td>\n",
       "    </tr>\n",
       "    <tr>\n",
       "      <th>Software</th>\n",
       "      <td>10636</td>\n",
       "    </tr>\n",
       "    <tr>\n",
       "      <th>Sports and Outdoors</th>\n",
       "      <td>146890</td>\n",
       "    </tr>\n",
       "    <tr>\n",
       "      <th>Tools and Home Improvement</th>\n",
       "      <td>101088</td>\n",
       "    </tr>\n",
       "    <tr>\n",
       "      <th>Toys and Games</th>\n",
       "      <td>51486</td>\n",
       "    </tr>\n",
       "    <tr>\n",
       "      <th>Video Games</th>\n",
       "      <td>13307</td>\n",
       "    </tr>\n",
       "  </tbody>\n",
       "</table>\n",
       "</div>"
      ],
      "text/plain": [
       "                             Question\n",
       "Category                             \n",
       "Appliances                       9011\n",
       "Arts Crafts and Sewing          21262\n",
       "Automotive                      89923\n",
       "Baby                            28933\n",
       "Beauty                          42422\n",
       "Cell Phones and Accessories     85865\n",
       "Clothing Shoes and Jewelry      22068\n",
       "Electronics                    314263\n",
       "Grocery and Gourmet Food        19538\n",
       "Health and Personal Care        80496\n",
       "Home and Kitchen               184439\n",
       "Industrial and Scientific       12136\n",
       "Musical Instruments             23322\n",
       "Office Products                 43608\n",
       "Patio Lawn and Garden           59595\n",
       "Pet Supplies                    36607\n",
       "Software                        10636\n",
       "Sports and Outdoors            146890\n",
       "Tools and Home Improvement     101088\n",
       "Toys and Games                  51486\n",
       "Video Games                     13307"
      ]
     },
     "execution_count": 4,
     "metadata": {},
     "output_type": "execute_result"
    }
   ],
   "source": [
    "df[['Question','Category']].groupby(['Category']).count()"
   ]
  },
  {
   "cell_type": "code",
   "execution_count": 5,
   "metadata": {},
   "outputs": [
    {
     "data": {
      "application/vnd.plotly.v1+json": {
       "config": {
        "plotlyServerURL": "https://plot.ly"
       },
       "data": [
        {
         "alignmentgroup": "True",
         "hovertemplate": "Category=%{x}<br>Number of Records=%{y}<extra></extra>",
         "legendgroup": "",
         "marker": {
          "color": "#636efa",
          "pattern": {
           "shape": ""
          }
         },
         "name": "",
         "offsetgroup": "",
         "orientation": "v",
         "showlegend": false,
         "textposition": "auto",
         "type": "bar",
         "x": [
          "Electronics",
          "Home and Kitchen",
          "Sports and Outdoors",
          "Tools and Home Improvement",
          "Automotive",
          "Cell Phones and Accessories",
          "Health and Personal Care",
          "Patio Lawn and Garden",
          "Toys and Games",
          "Office Products",
          "Beauty",
          "Pet Supplies",
          "Baby",
          "Musical Instruments",
          "Clothing Shoes and Jewelry",
          "Arts Crafts and Sewing",
          "Grocery and Gourmet Food",
          "Video Games",
          "Industrial and Scientific",
          "Software",
          "Appliances"
         ],
         "xaxis": "x",
         "y": [
          314263,
          184439,
          146891,
          101088,
          89923,
          85865,
          80496,
          59595,
          51486,
          43608,
          42422,
          36607,
          28933,
          23322,
          22068,
          21262,
          19538,
          13307,
          12136,
          10636,
          9011
         ],
         "yaxis": "y"
        }
       ],
       "layout": {
        "barmode": "relative",
        "height": 500,
        "legend": {
         "tracegroupgap": 0
        },
        "template": {
         "data": {
          "bar": [
           {
            "error_x": {
             "color": "#2a3f5f"
            },
            "error_y": {
             "color": "#2a3f5f"
            },
            "marker": {
             "line": {
              "color": "#E5ECF6",
              "width": 0.5
             },
             "pattern": {
              "fillmode": "overlay",
              "size": 10,
              "solidity": 0.2
             }
            },
            "type": "bar"
           }
          ],
          "barpolar": [
           {
            "marker": {
             "line": {
              "color": "#E5ECF6",
              "width": 0.5
             },
             "pattern": {
              "fillmode": "overlay",
              "size": 10,
              "solidity": 0.2
             }
            },
            "type": "barpolar"
           }
          ],
          "carpet": [
           {
            "aaxis": {
             "endlinecolor": "#2a3f5f",
             "gridcolor": "white",
             "linecolor": "white",
             "minorgridcolor": "white",
             "startlinecolor": "#2a3f5f"
            },
            "baxis": {
             "endlinecolor": "#2a3f5f",
             "gridcolor": "white",
             "linecolor": "white",
             "minorgridcolor": "white",
             "startlinecolor": "#2a3f5f"
            },
            "type": "carpet"
           }
          ],
          "choropleth": [
           {
            "colorbar": {
             "outlinewidth": 0,
             "ticks": ""
            },
            "type": "choropleth"
           }
          ],
          "contour": [
           {
            "colorbar": {
             "outlinewidth": 0,
             "ticks": ""
            },
            "colorscale": [
             [
              0,
              "#0d0887"
             ],
             [
              0.1111111111111111,
              "#46039f"
             ],
             [
              0.2222222222222222,
              "#7201a8"
             ],
             [
              0.3333333333333333,
              "#9c179e"
             ],
             [
              0.4444444444444444,
              "#bd3786"
             ],
             [
              0.5555555555555556,
              "#d8576b"
             ],
             [
              0.6666666666666666,
              "#ed7953"
             ],
             [
              0.7777777777777778,
              "#fb9f3a"
             ],
             [
              0.8888888888888888,
              "#fdca26"
             ],
             [
              1,
              "#f0f921"
             ]
            ],
            "type": "contour"
           }
          ],
          "contourcarpet": [
           {
            "colorbar": {
             "outlinewidth": 0,
             "ticks": ""
            },
            "type": "contourcarpet"
           }
          ],
          "heatmap": [
           {
            "colorbar": {
             "outlinewidth": 0,
             "ticks": ""
            },
            "colorscale": [
             [
              0,
              "#0d0887"
             ],
             [
              0.1111111111111111,
              "#46039f"
             ],
             [
              0.2222222222222222,
              "#7201a8"
             ],
             [
              0.3333333333333333,
              "#9c179e"
             ],
             [
              0.4444444444444444,
              "#bd3786"
             ],
             [
              0.5555555555555556,
              "#d8576b"
             ],
             [
              0.6666666666666666,
              "#ed7953"
             ],
             [
              0.7777777777777778,
              "#fb9f3a"
             ],
             [
              0.8888888888888888,
              "#fdca26"
             ],
             [
              1,
              "#f0f921"
             ]
            ],
            "type": "heatmap"
           }
          ],
          "heatmapgl": [
           {
            "colorbar": {
             "outlinewidth": 0,
             "ticks": ""
            },
            "colorscale": [
             [
              0,
              "#0d0887"
             ],
             [
              0.1111111111111111,
              "#46039f"
             ],
             [
              0.2222222222222222,
              "#7201a8"
             ],
             [
              0.3333333333333333,
              "#9c179e"
             ],
             [
              0.4444444444444444,
              "#bd3786"
             ],
             [
              0.5555555555555556,
              "#d8576b"
             ],
             [
              0.6666666666666666,
              "#ed7953"
             ],
             [
              0.7777777777777778,
              "#fb9f3a"
             ],
             [
              0.8888888888888888,
              "#fdca26"
             ],
             [
              1,
              "#f0f921"
             ]
            ],
            "type": "heatmapgl"
           }
          ],
          "histogram": [
           {
            "marker": {
             "pattern": {
              "fillmode": "overlay",
              "size": 10,
              "solidity": 0.2
             }
            },
            "type": "histogram"
           }
          ],
          "histogram2d": [
           {
            "colorbar": {
             "outlinewidth": 0,
             "ticks": ""
            },
            "colorscale": [
             [
              0,
              "#0d0887"
             ],
             [
              0.1111111111111111,
              "#46039f"
             ],
             [
              0.2222222222222222,
              "#7201a8"
             ],
             [
              0.3333333333333333,
              "#9c179e"
             ],
             [
              0.4444444444444444,
              "#bd3786"
             ],
             [
              0.5555555555555556,
              "#d8576b"
             ],
             [
              0.6666666666666666,
              "#ed7953"
             ],
             [
              0.7777777777777778,
              "#fb9f3a"
             ],
             [
              0.8888888888888888,
              "#fdca26"
             ],
             [
              1,
              "#f0f921"
             ]
            ],
            "type": "histogram2d"
           }
          ],
          "histogram2dcontour": [
           {
            "colorbar": {
             "outlinewidth": 0,
             "ticks": ""
            },
            "colorscale": [
             [
              0,
              "#0d0887"
             ],
             [
              0.1111111111111111,
              "#46039f"
             ],
             [
              0.2222222222222222,
              "#7201a8"
             ],
             [
              0.3333333333333333,
              "#9c179e"
             ],
             [
              0.4444444444444444,
              "#bd3786"
             ],
             [
              0.5555555555555556,
              "#d8576b"
             ],
             [
              0.6666666666666666,
              "#ed7953"
             ],
             [
              0.7777777777777778,
              "#fb9f3a"
             ],
             [
              0.8888888888888888,
              "#fdca26"
             ],
             [
              1,
              "#f0f921"
             ]
            ],
            "type": "histogram2dcontour"
           }
          ],
          "mesh3d": [
           {
            "colorbar": {
             "outlinewidth": 0,
             "ticks": ""
            },
            "type": "mesh3d"
           }
          ],
          "parcoords": [
           {
            "line": {
             "colorbar": {
              "outlinewidth": 0,
              "ticks": ""
             }
            },
            "type": "parcoords"
           }
          ],
          "pie": [
           {
            "automargin": true,
            "type": "pie"
           }
          ],
          "scatter": [
           {
            "fillpattern": {
             "fillmode": "overlay",
             "size": 10,
             "solidity": 0.2
            },
            "type": "scatter"
           }
          ],
          "scatter3d": [
           {
            "line": {
             "colorbar": {
              "outlinewidth": 0,
              "ticks": ""
             }
            },
            "marker": {
             "colorbar": {
              "outlinewidth": 0,
              "ticks": ""
             }
            },
            "type": "scatter3d"
           }
          ],
          "scattercarpet": [
           {
            "marker": {
             "colorbar": {
              "outlinewidth": 0,
              "ticks": ""
             }
            },
            "type": "scattercarpet"
           }
          ],
          "scattergeo": [
           {
            "marker": {
             "colorbar": {
              "outlinewidth": 0,
              "ticks": ""
             }
            },
            "type": "scattergeo"
           }
          ],
          "scattergl": [
           {
            "marker": {
             "colorbar": {
              "outlinewidth": 0,
              "ticks": ""
             }
            },
            "type": "scattergl"
           }
          ],
          "scattermapbox": [
           {
            "marker": {
             "colorbar": {
              "outlinewidth": 0,
              "ticks": ""
             }
            },
            "type": "scattermapbox"
           }
          ],
          "scatterpolar": [
           {
            "marker": {
             "colorbar": {
              "outlinewidth": 0,
              "ticks": ""
             }
            },
            "type": "scatterpolar"
           }
          ],
          "scatterpolargl": [
           {
            "marker": {
             "colorbar": {
              "outlinewidth": 0,
              "ticks": ""
             }
            },
            "type": "scatterpolargl"
           }
          ],
          "scatterternary": [
           {
            "marker": {
             "colorbar": {
              "outlinewidth": 0,
              "ticks": ""
             }
            },
            "type": "scatterternary"
           }
          ],
          "surface": [
           {
            "colorbar": {
             "outlinewidth": 0,
             "ticks": ""
            },
            "colorscale": [
             [
              0,
              "#0d0887"
             ],
             [
              0.1111111111111111,
              "#46039f"
             ],
             [
              0.2222222222222222,
              "#7201a8"
             ],
             [
              0.3333333333333333,
              "#9c179e"
             ],
             [
              0.4444444444444444,
              "#bd3786"
             ],
             [
              0.5555555555555556,
              "#d8576b"
             ],
             [
              0.6666666666666666,
              "#ed7953"
             ],
             [
              0.7777777777777778,
              "#fb9f3a"
             ],
             [
              0.8888888888888888,
              "#fdca26"
             ],
             [
              1,
              "#f0f921"
             ]
            ],
            "type": "surface"
           }
          ],
          "table": [
           {
            "cells": {
             "fill": {
              "color": "#EBF0F8"
             },
             "line": {
              "color": "white"
             }
            },
            "header": {
             "fill": {
              "color": "#C8D4E3"
             },
             "line": {
              "color": "white"
             }
            },
            "type": "table"
           }
          ]
         },
         "layout": {
          "annotationdefaults": {
           "arrowcolor": "#2a3f5f",
           "arrowhead": 0,
           "arrowwidth": 1
          },
          "autotypenumbers": "strict",
          "coloraxis": {
           "colorbar": {
            "outlinewidth": 0,
            "ticks": ""
           }
          },
          "colorscale": {
           "diverging": [
            [
             0,
             "#8e0152"
            ],
            [
             0.1,
             "#c51b7d"
            ],
            [
             0.2,
             "#de77ae"
            ],
            [
             0.3,
             "#f1b6da"
            ],
            [
             0.4,
             "#fde0ef"
            ],
            [
             0.5,
             "#f7f7f7"
            ],
            [
             0.6,
             "#e6f5d0"
            ],
            [
             0.7,
             "#b8e186"
            ],
            [
             0.8,
             "#7fbc41"
            ],
            [
             0.9,
             "#4d9221"
            ],
            [
             1,
             "#276419"
            ]
           ],
           "sequential": [
            [
             0,
             "#0d0887"
            ],
            [
             0.1111111111111111,
             "#46039f"
            ],
            [
             0.2222222222222222,
             "#7201a8"
            ],
            [
             0.3333333333333333,
             "#9c179e"
            ],
            [
             0.4444444444444444,
             "#bd3786"
            ],
            [
             0.5555555555555556,
             "#d8576b"
            ],
            [
             0.6666666666666666,
             "#ed7953"
            ],
            [
             0.7777777777777778,
             "#fb9f3a"
            ],
            [
             0.8888888888888888,
             "#fdca26"
            ],
            [
             1,
             "#f0f921"
            ]
           ],
           "sequentialminus": [
            [
             0,
             "#0d0887"
            ],
            [
             0.1111111111111111,
             "#46039f"
            ],
            [
             0.2222222222222222,
             "#7201a8"
            ],
            [
             0.3333333333333333,
             "#9c179e"
            ],
            [
             0.4444444444444444,
             "#bd3786"
            ],
            [
             0.5555555555555556,
             "#d8576b"
            ],
            [
             0.6666666666666666,
             "#ed7953"
            ],
            [
             0.7777777777777778,
             "#fb9f3a"
            ],
            [
             0.8888888888888888,
             "#fdca26"
            ],
            [
             1,
             "#f0f921"
            ]
           ]
          },
          "colorway": [
           "#636efa",
           "#EF553B",
           "#00cc96",
           "#ab63fa",
           "#FFA15A",
           "#19d3f3",
           "#FF6692",
           "#B6E880",
           "#FF97FF",
           "#FECB52"
          ],
          "font": {
           "color": "#2a3f5f"
          },
          "geo": {
           "bgcolor": "white",
           "lakecolor": "white",
           "landcolor": "#E5ECF6",
           "showlakes": true,
           "showland": true,
           "subunitcolor": "white"
          },
          "hoverlabel": {
           "align": "left"
          },
          "hovermode": "closest",
          "mapbox": {
           "style": "light"
          },
          "paper_bgcolor": "white",
          "plot_bgcolor": "#E5ECF6",
          "polar": {
           "angularaxis": {
            "gridcolor": "white",
            "linecolor": "white",
            "ticks": ""
           },
           "bgcolor": "#E5ECF6",
           "radialaxis": {
            "gridcolor": "white",
            "linecolor": "white",
            "ticks": ""
           }
          },
          "scene": {
           "xaxis": {
            "backgroundcolor": "#E5ECF6",
            "gridcolor": "white",
            "gridwidth": 2,
            "linecolor": "white",
            "showbackground": true,
            "ticks": "",
            "zerolinecolor": "white"
           },
           "yaxis": {
            "backgroundcolor": "#E5ECF6",
            "gridcolor": "white",
            "gridwidth": 2,
            "linecolor": "white",
            "showbackground": true,
            "ticks": "",
            "zerolinecolor": "white"
           },
           "zaxis": {
            "backgroundcolor": "#E5ECF6",
            "gridcolor": "white",
            "gridwidth": 2,
            "linecolor": "white",
            "showbackground": true,
            "ticks": "",
            "zerolinecolor": "white"
           }
          },
          "shapedefaults": {
           "line": {
            "color": "#2a3f5f"
           }
          },
          "ternary": {
           "aaxis": {
            "gridcolor": "white",
            "linecolor": "white",
            "ticks": ""
           },
           "baxis": {
            "gridcolor": "white",
            "linecolor": "white",
            "ticks": ""
           },
           "bgcolor": "#E5ECF6",
           "caxis": {
            "gridcolor": "white",
            "linecolor": "white",
            "ticks": ""
           }
          },
          "title": {
           "x": 0.05
          },
          "xaxis": {
           "automargin": true,
           "gridcolor": "white",
           "linecolor": "white",
           "ticks": "",
           "title": {
            "standoff": 15
           },
           "zerolinecolor": "white",
           "zerolinewidth": 2
          },
          "yaxis": {
           "automargin": true,
           "gridcolor": "white",
           "linecolor": "white",
           "ticks": "",
           "title": {
            "standoff": 15
           },
           "zerolinecolor": "white",
           "zerolinewidth": 2
          }
         }
        },
        "title": {
         "text": "Classes vs Number of Records in each class"
        },
        "width": 1500,
        "xaxis": {
         "anchor": "y",
         "domain": [
          0,
          1
         ],
         "title": {
          "text": "Category"
         }
        },
        "yaxis": {
         "anchor": "x",
         "domain": [
          0,
          1
         ],
         "title": {
          "text": "Number of Records"
         }
        }
       }
      }
     },
     "metadata": {},
     "output_type": "display_data"
    }
   ],
   "source": [
    "import plotly.express as px\n",
    "\n",
    "fig = px.bar(df['Category'].value_counts().reset_index(), x='index', y='Category',\n",
    "             labels={'index': 'Category', 'Category': 'Number of Records'},\n",
    "             title='Classes vs Number of Records in each class',\n",
    "             width=1500, height=500)\n",
    "\n",
    "fig.show()\n"
   ]
  },
  {
   "cell_type": "code",
   "execution_count": 6,
   "metadata": {},
   "outputs": [],
   "source": [
    "df['labels'] = df['Category'].map(lambda cat: categories.get(cat))\n"
   ]
  },
  {
   "cell_type": "code",
   "execution_count": 7,
   "metadata": {},
   "outputs": [
    {
     "data": {
      "text/html": [
       "<div>\n",
       "<style scoped>\n",
       "    .dataframe tbody tr th:only-of-type {\n",
       "        vertical-align: middle;\n",
       "    }\n",
       "\n",
       "    .dataframe tbody tr th {\n",
       "        vertical-align: top;\n",
       "    }\n",
       "\n",
       "    .dataframe thead th {\n",
       "        text-align: right;\n",
       "    }\n",
       "</style>\n",
       "<table border=\"1\" class=\"dataframe\">\n",
       "  <thead>\n",
       "    <tr style=\"text-align: right;\">\n",
       "      <th></th>\n",
       "      <th>QuestionType</th>\n",
       "      <th>Asin</th>\n",
       "      <th>AnswerTime</th>\n",
       "      <th>UnixTime</th>\n",
       "      <th>Question</th>\n",
       "      <th>AnswerType</th>\n",
       "      <th>Answer</th>\n",
       "      <th>Category</th>\n",
       "      <th>labels</th>\n",
       "    </tr>\n",
       "  </thead>\n",
       "  <tbody>\n",
       "    <tr>\n",
       "      <th>0</th>\n",
       "      <td>yes/no</td>\n",
       "      <td>B00004U9JP</td>\n",
       "      <td>Jun 27, 2014</td>\n",
       "      <td>1.403852e+09</td>\n",
       "      <td>I have a 9 year old Badger 1 that needs replac...</td>\n",
       "      <td>?</td>\n",
       "      <td>I replaced my old one with this without a hitch.</td>\n",
       "      <td>Appliances</td>\n",
       "      <td>0</td>\n",
       "    </tr>\n",
       "    <tr>\n",
       "      <th>1</th>\n",
       "      <td>open-ended</td>\n",
       "      <td>B00004U9JP</td>\n",
       "      <td>Apr 28, 2014</td>\n",
       "      <td>1.398668e+09</td>\n",
       "      <td>model number</td>\n",
       "      <td>NaN</td>\n",
       "      <td>This may help InSinkErator Model BADGER-1: Bad...</td>\n",
       "      <td>Appliances</td>\n",
       "      <td>0</td>\n",
       "    </tr>\n",
       "    <tr>\n",
       "      <th>2</th>\n",
       "      <td>yes/no</td>\n",
       "      <td>B00004U9JP</td>\n",
       "      <td>Aug 25, 2014</td>\n",
       "      <td>1.408950e+09</td>\n",
       "      <td>can I replace Badger 1 1/3 with a Badger 5 1/2...</td>\n",
       "      <td>?</td>\n",
       "      <td>Plumbing connections will vary with different ...</td>\n",
       "      <td>Appliances</td>\n",
       "      <td>0</td>\n",
       "    </tr>\n",
       "    <tr>\n",
       "      <th>3</th>\n",
       "      <td>yes/no</td>\n",
       "      <td>B00004U9JP</td>\n",
       "      <td>Nov 3, 2014</td>\n",
       "      <td>1.415002e+09</td>\n",
       "      <td>Does this come with power cord and dishwasher ...</td>\n",
       "      <td>?</td>\n",
       "      <td>It does not come with a power cord. It does co...</td>\n",
       "      <td>Appliances</td>\n",
       "      <td>0</td>\n",
       "    </tr>\n",
       "    <tr>\n",
       "      <th>4</th>\n",
       "      <td>open-ended</td>\n",
       "      <td>B00004U9JP</td>\n",
       "      <td>Jun 21, 2014</td>\n",
       "      <td>1.403334e+09</td>\n",
       "      <td>loud noise inside when turned on. sounds like ...</td>\n",
       "      <td>NaN</td>\n",
       "      <td>Check if you dropped something inside.Usually ...</td>\n",
       "      <td>Appliances</td>\n",
       "      <td>0</td>\n",
       "    </tr>\n",
       "  </tbody>\n",
       "</table>\n",
       "</div>"
      ],
      "text/plain": [
       "  QuestionType        Asin    AnswerTime      UnixTime  \\\n",
       "0       yes/no  B00004U9JP  Jun 27, 2014  1.403852e+09   \n",
       "1   open-ended  B00004U9JP  Apr 28, 2014  1.398668e+09   \n",
       "2       yes/no  B00004U9JP  Aug 25, 2014  1.408950e+09   \n",
       "3       yes/no  B00004U9JP   Nov 3, 2014  1.415002e+09   \n",
       "4   open-ended  B00004U9JP  Jun 21, 2014  1.403334e+09   \n",
       "\n",
       "                                            Question AnswerType  \\\n",
       "0  I have a 9 year old Badger 1 that needs replac...          ?   \n",
       "1                                       model number        NaN   \n",
       "2  can I replace Badger 1 1/3 with a Badger 5 1/2...          ?   \n",
       "3  Does this come with power cord and dishwasher ...          ?   \n",
       "4  loud noise inside when turned on. sounds like ...        NaN   \n",
       "\n",
       "                                              Answer    Category  labels  \n",
       "0   I replaced my old one with this without a hitch.  Appliances       0  \n",
       "1  This may help InSinkErator Model BADGER-1: Bad...  Appliances       0  \n",
       "2  Plumbing connections will vary with different ...  Appliances       0  \n",
       "3  It does not come with a power cord. It does co...  Appliances       0  \n",
       "4  Check if you dropped something inside.Usually ...  Appliances       0  "
      ]
     },
     "execution_count": 7,
     "metadata": {},
     "output_type": "execute_result"
    }
   ],
   "source": [
    "df.head()"
   ]
  },
  {
   "cell_type": "code",
   "execution_count": 8,
   "metadata": {},
   "outputs": [
    {
     "data": {
      "text/plain": [
       "(1396896, 9)"
      ]
     },
     "execution_count": 8,
     "metadata": {},
     "output_type": "execute_result"
    }
   ],
   "source": [
    "df.shape"
   ]
  },
  {
   "cell_type": "code",
   "execution_count": 26,
   "metadata": {},
   "outputs": [],
   "source": [
    "import pandas as pd\n",
    "\n",
    "selected_rows_list = [df[df['Category'] == category].head(3000) for category in unique_categories]\n",
    "\n",
    "dataframe = pd.concat(selected_rows_list, ignore_index=True)\n",
    "\n"
   ]
  },
  {
   "cell_type": "code",
   "execution_count": 10,
   "metadata": {},
   "outputs": [
    {
     "data": {
      "text/html": [
       "<div>\n",
       "<style scoped>\n",
       "    .dataframe tbody tr th:only-of-type {\n",
       "        vertical-align: middle;\n",
       "    }\n",
       "\n",
       "    .dataframe tbody tr th {\n",
       "        vertical-align: top;\n",
       "    }\n",
       "\n",
       "    .dataframe thead th {\n",
       "        text-align: right;\n",
       "    }\n",
       "</style>\n",
       "<table border=\"1\" class=\"dataframe\">\n",
       "  <thead>\n",
       "    <tr style=\"text-align: right;\">\n",
       "      <th></th>\n",
       "      <th>Question</th>\n",
       "      <th>labels</th>\n",
       "    </tr>\n",
       "  </thead>\n",
       "  <tbody>\n",
       "    <tr>\n",
       "      <th>0</th>\n",
       "      <td>I have a 9 year old Badger 1 that needs replac...</td>\n",
       "      <td>0</td>\n",
       "    </tr>\n",
       "    <tr>\n",
       "      <th>1</th>\n",
       "      <td>model number</td>\n",
       "      <td>0</td>\n",
       "    </tr>\n",
       "    <tr>\n",
       "      <th>2</th>\n",
       "      <td>can I replace Badger 1 1/3 with a Badger 5 1/2...</td>\n",
       "      <td>0</td>\n",
       "    </tr>\n",
       "    <tr>\n",
       "      <th>3</th>\n",
       "      <td>Does this come with power cord and dishwasher ...</td>\n",
       "      <td>0</td>\n",
       "    </tr>\n",
       "    <tr>\n",
       "      <th>4</th>\n",
       "      <td>loud noise inside when turned on. sounds like ...</td>\n",
       "      <td>0</td>\n",
       "    </tr>\n",
       "    <tr>\n",
       "      <th>...</th>\n",
       "      <td>...</td>\n",
       "      <td>...</td>\n",
       "    </tr>\n",
       "    <tr>\n",
       "      <th>62995</th>\n",
       "      <td>Why is this \"Item Under Review\"? Quick questio...</td>\n",
       "      <td>20</td>\n",
       "    </tr>\n",
       "    <tr>\n",
       "      <th>62996</th>\n",
       "      <td>Possibly lost a part while configuring my RAT7...</td>\n",
       "      <td>20</td>\n",
       "    </tr>\n",
       "    <tr>\n",
       "      <th>62997</th>\n",
       "      <td>R.A.T. 5 button question??? can i customize wh...</td>\n",
       "      <td>20</td>\n",
       "    </tr>\n",
       "    <tr>\n",
       "      <th>62998</th>\n",
       "      <td>Scroll wheel properties: I would like to know ...</td>\n",
       "      <td>20</td>\n",
       "    </tr>\n",
       "    <tr>\n",
       "      <th>62999</th>\n",
       "      <td>is Black cat in this game?</td>\n",
       "      <td>20</td>\n",
       "    </tr>\n",
       "  </tbody>\n",
       "</table>\n",
       "<p>63000 rows × 2 columns</p>\n",
       "</div>"
      ],
      "text/plain": [
       "                                                Question  labels\n",
       "0      I have a 9 year old Badger 1 that needs replac...       0\n",
       "1                                           model number       0\n",
       "2      can I replace Badger 1 1/3 with a Badger 5 1/2...       0\n",
       "3      Does this come with power cord and dishwasher ...       0\n",
       "4      loud noise inside when turned on. sounds like ...       0\n",
       "...                                                  ...     ...\n",
       "62995  Why is this \"Item Under Review\"? Quick questio...      20\n",
       "62996  Possibly lost a part while configuring my RAT7...      20\n",
       "62997  R.A.T. 5 button question??? can i customize wh...      20\n",
       "62998  Scroll wheel properties: I would like to know ...      20\n",
       "62999                         is Black cat in this game?      20\n",
       "\n",
       "[63000 rows x 2 columns]"
      ]
     },
     "execution_count": 10,
     "metadata": {},
     "output_type": "execute_result"
    }
   ],
   "source": [
    "colums=['Question','labels']\n",
    "df_final = dataset[colums]\n",
    "df_final"
   ]
  },
  {
   "cell_type": "code",
   "execution_count": 11,
   "metadata": {},
   "outputs": [],
   "source": [
    "from sklearn.model_selection import train_test_split\n",
    "\n",
    "train_data, val_data = train_test_split(df_final, test_size=0.2, random_state=9963)"
   ]
  },
  {
   "cell_type": "code",
   "execution_count": 12,
   "metadata": {},
   "outputs": [
    {
     "data": {
      "text/html": [
       "<div>\n",
       "<style scoped>\n",
       "    .dataframe tbody tr th:only-of-type {\n",
       "        vertical-align: middle;\n",
       "    }\n",
       "\n",
       "    .dataframe tbody tr th {\n",
       "        vertical-align: top;\n",
       "    }\n",
       "\n",
       "    .dataframe thead th {\n",
       "        text-align: right;\n",
       "    }\n",
       "</style>\n",
       "<table border=\"1\" class=\"dataframe\">\n",
       "  <thead>\n",
       "    <tr style=\"text-align: right;\">\n",
       "      <th></th>\n",
       "      <th>Question</th>\n",
       "      <th>labels</th>\n",
       "    </tr>\n",
       "  </thead>\n",
       "  <tbody>\n",
       "    <tr>\n",
       "      <th>3998</th>\n",
       "      <td>Will this work with the Singer simple 3116?</td>\n",
       "      <td>1</td>\n",
       "    </tr>\n",
       "    <tr>\n",
       "      <th>29475</th>\n",
       "      <td>What specific bacterial strains are included i...</td>\n",
       "      <td>9</td>\n",
       "    </tr>\n",
       "    <tr>\n",
       "      <th>33834</th>\n",
       "      <td>In the assembly parts bag there was a large, t...</td>\n",
       "      <td>11</td>\n",
       "    </tr>\n",
       "    <tr>\n",
       "      <th>29592</th>\n",
       "      <td>Once you apply this product how long does it w...</td>\n",
       "      <td>9</td>\n",
       "    </tr>\n",
       "    <tr>\n",
       "      <th>14008</th>\n",
       "      <td>where was it made</td>\n",
       "      <td>4</td>\n",
       "    </tr>\n",
       "  </tbody>\n",
       "</table>\n",
       "</div>"
      ],
      "text/plain": [
       "                                                Question  labels\n",
       "3998         Will this work with the Singer simple 3116?       1\n",
       "29475  What specific bacterial strains are included i...       9\n",
       "33834  In the assembly parts bag there was a large, t...      11\n",
       "29592  Once you apply this product how long does it w...       9\n",
       "14008                                  where was it made       4"
      ]
     },
     "execution_count": 12,
     "metadata": {},
     "output_type": "execute_result"
    }
   ],
   "source": [
    "train_data.head()"
   ]
  },
  {
   "cell_type": "code",
   "execution_count": 13,
   "metadata": {},
   "outputs": [
    {
     "name": "stderr",
     "output_type": "stream",
     "text": [
      "Some weights of BertForSequenceClassification were not initialized from the model checkpoint at bert-base-uncased and are newly initialized: ['classifier.weight', 'classifier.bias']\n",
      "You should probably TRAIN this model on a down-stream task to be able to use it for predictions and inference.\n"
     ]
    }
   ],
   "source": [
    "import torch\n",
    "from transformers import AdamW\n",
    "\n",
    "import torch.nn.functional as F\n",
    "\n",
    "from transformers import BertTokenizer, BertForSequenceClassification\n",
    "from torch.utils.data import TensorDataset, DataLoader\n",
    "\n",
    "# Load the pre-trained BERT model and tokenizer\n",
    "model_name, num_labels = 'bert-base-uncased', len(unique_categories)\n",
    "tokenizer = BertTokenizer.from_pretrained(model_name)\n",
    "model = BertForSequenceClassification.from_pretrained(model_name, num_labels=num_labels)\n",
    "\n",
    "# Prepare training data and tokenize\n",
    "train_texts, train_labels = list(train_data['Question']), torch.tensor(list(train_data['labels']))\n",
    "train_encodings = tokenizer(train_texts, truncation=True, padding=True, return_tensors='pt')\n",
    "\n",
    "# Create PyTorch dataset and DataLoader\n",
    "train_dataset = TensorDataset(train_encodings['input_ids'], train_encodings['attention_mask'], train_labels)\n",
    "batch_size, shuffle = 32, True\n",
    "train_loader = DataLoader(train_dataset, batch_size=batch_size, shuffle=shuffle)\n",
    "\n",
    "\n",
    "\n"
   ]
  },
  {
   "cell_type": "code",
   "execution_count": 14,
   "metadata": {},
   "outputs": [
    {
     "data": {
      "text/plain": [
       "1575"
      ]
     },
     "execution_count": 14,
     "metadata": {},
     "output_type": "execute_result"
    }
   ],
   "source": [
    "len(train_loader)"
   ]
  },
  {
   "cell_type": "code",
   "execution_count": 22,
   "metadata": {},
   "outputs": [
    {
     "name": "stdout",
     "output_type": "stream",
     "text": [
      "training model on cuda\n",
      "Epoch 1 - Loss: 0.2041\n",
      "Epoch 2 - Loss: 0.1684\n",
      "Epoch 3 - Loss: 0.1538\n",
      "Epoch 4 - Loss: 0.1445\n",
      "Epoch 5 - Loss: 0.1324\n",
      "Epoch 6 - Loss: 0.1223\n",
      "Epoch 7 - Loss: 0.1189\n",
      "Epoch 8 - Loss: 0.1158\n",
      "Epoch 9 - Loss: 0.1074\n",
      "Epoch 10 - Loss: 0.1005\n"
     ]
    }
   ],
   "source": [
    "# Fine-tune the BERT model\n",
    "optimizer = AdamW(model.parameters(), lr=2e-5)\n",
    "num_epochs = 10\n",
    "device = torch.device('cuda' if torch.cuda.is_available() else 'cpu')\n",
    "model.to(device)\n",
    "print(\"training model on\", device)\n",
    "# top_batches = 1000  # Number of top batches to use for training\n",
    "epoch = 0\n",
    "while epoch < num_epochs:\n",
    "    model.train()\n",
    "    total_loss = 0\n",
    "    batch_count = 0\n",
    "\n",
    "    for batch in train_loader:\n",
    "        # if batch_count >= top_batches:\n",
    "        #     break  # Stop processing batches after reaching the specified number\n",
    "\n",
    "        input_ids, attention_mask, labels = [item.to(device) for item in batch]\n",
    "\n",
    "        optimizer.zero_grad()\n",
    "        outputs = model(input_ids, attention_mask=attention_mask, labels=labels)\n",
    "        logits = outputs.logits\n",
    "        batch_loss = F.cross_entropy(logits, labels)\n",
    "        batch_loss.backward()\n",
    "        optimizer.step()\n",
    "\n",
    "        total_loss += batch_loss.item()\n",
    "        batch_count += 1\n",
    "\n",
    "    print(f\"Epoch {epoch + 1} - Loss: {total_loss / batch_count:.4f}\")\n",
    "    epoch += 1"
   ]
  },
  {
   "cell_type": "code",
   "execution_count": 23,
   "metadata": {},
   "outputs": [],
   "source": [
    "\n",
    "test_texts = list(val_data['Question'])\n",
    "test_encodings = tokenizer(test_texts, truncation=True, padding=True)\n",
    "\n",
    "test_input_ids, test_attention_mask = map(torch.tensor, (test_encodings['input_ids'], test_encodings['attention_mask']))\n",
    "\n",
    "test_dataset = TensorDataset(test_input_ids, test_attention_mask)\n",
    "test_loader = DataLoader(test_dataset, batch_size=batch_size)\n",
    "\n",
    "model.eval()\n",
    "\n",
    "with torch.no_grad():\n",
    "    predictions = [torch.max(model(input_ids.to(device), attention_mask=attention_mask.to(device)).logits, dim=1)[1].cpu().tolist()\n",
    "                   for input_ids, attention_mask in map(lambda x: [item.to(device) for item in x], test_loader)]\n",
    "\n",
    "prediction_list = [label for sublist in predictions for label in sublist]\n",
    "\n"
   ]
  },
  {
   "cell_type": "code",
   "execution_count": 25,
   "metadata": {},
   "outputs": [
    {
     "name": "stdout",
     "output_type": "stream",
     "text": [
      "Number of correct elements: 7407\n",
      "Accuracy: 0.5878571428571429\n"
     ]
    }
   ],
   "source": [
    "true_labels = list(val_data['labels'])\n",
    "\n",
    "correct_count = sum(1 for pred, true in zip(prediction_list, true_labels) if pred == true)\n",
    "accuracy = correct_count / len(true_labels)\n",
    "\n",
    "print(\"Number of correct elements:\", correct_count)\n",
    "print(\"Accuracy:\", accuracy)\n"
   ]
  },
  {
   "cell_type": "code",
   "execution_count": null,
   "metadata": {},
   "outputs": [],
   "source": []
  }
 ],
 "metadata": {
  "kernelspec": {
   "display_name": "Python 3",
   "language": "python",
   "name": "python3"
  },
  "language_info": {
   "codemirror_mode": {
    "name": "ipython",
    "version": 3
   },
   "file_extension": ".py",
   "mimetype": "text/x-python",
   "name": "python",
   "nbconvert_exporter": "python",
   "pygments_lexer": "ipython3",
   "version": "3.8.4rc1"
  }
 },
 "nbformat": 4,
 "nbformat_minor": 2
}
